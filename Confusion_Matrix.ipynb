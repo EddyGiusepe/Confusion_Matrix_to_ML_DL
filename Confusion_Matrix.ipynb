{
  "nbformat": 4,
  "nbformat_minor": 0,
  "metadata": {
    "colab": {
      "name": "Confusion_Matrix.ipynb",
      "provenance": [],
      "machine_shape": "hm",
      "authorship_tag": "ABX9TyPj2NgA3MW//0iT1XL4w+5S",
      "include_colab_link": true
    },
    "kernelspec": {
      "name": "python3",
      "display_name": "Python 3"
    },
    "language_info": {
      "name": "python"
    },
    "accelerator": "TPU"
  },
  "cells": [
    {
      "cell_type": "markdown",
      "metadata": {
        "id": "view-in-github",
        "colab_type": "text"
      },
      "source": [
        "<a href=\"https://colab.research.google.com/github/EddyGiusepe/Confusion_Matrix_to_ML_DL/blob/main/Confusion_Matrix.ipynb\" target=\"_parent\"><img src=\"https://colab.research.google.com/assets/colab-badge.svg\" alt=\"Open In Colab\"/></a>"
      ]
    },
    {
      "cell_type": "markdown",
      "source": [
        "# <h2 align='center'>Everything you Should Know about Confusion Matrix for Machine Learning</h2> \n",
        "\n",
        "\n",
        "**Cientista de Dados Jr.:**  Dr.Eddy Giusepe Chirinos Isidro"
      ],
      "metadata": {
        "id": "VB0ufc50tJse"
      }
    },
    {
      "cell_type": "markdown",
      "source": [
        "# <font color=\"orange\">Exemplo simples sobre como obter a Matriz de confusão</font>"
      ],
      "metadata": {
        "id": "EcVcnZ0hdM70"
      }
    },
    {
      "cell_type": "code",
      "execution_count": 1,
      "metadata": {
        "id": "R5Bdyj8NtF1d"
      },
      "outputs": [],
      "source": [
        "# confusion matrix in sklearn\n",
        "from sklearn.metrics import confusion_matrix\n",
        "from sklearn.metrics import classification_report\n"
      ]
    },
    {
      "cell_type": "code",
      "source": [
        "# actual values\n",
        "   actual = [1,0,0,1,0,0,1,0,0,1]\n",
        "# predicted values\n",
        "predicted = [1,0,0,1,0,0,0,1,0,0]\n"
      ],
      "metadata": {
        "id": "jB69lU7ael2I"
      },
      "execution_count": 2,
      "outputs": []
    },
    {
      "cell_type": "code",
      "source": [
        "# confusion matrix\n",
        "matrix = confusion_matrix(actual,predicted, labels=[1,0])\n",
        "print('Confusion matrix : \\n', matrix)\n",
        "\n",
        "#obs:\n",
        "# VP = 2\n",
        "# VN = 5\n",
        "# FP = 1\n",
        "# FN = 2 \n"
      ],
      "metadata": {
        "colab": {
          "base_uri": "https://localhost:8080/"
        },
        "id": "ZV1D3fcOet0z",
        "outputId": "e3cbef68-5073-4575-9bba-cc46418c71ca"
      },
      "execution_count": 3,
      "outputs": [
        {
          "output_type": "stream",
          "name": "stdout",
          "text": [
            "Confusion matrix : \n",
            " [[2 2]\n",
            " [1 5]]\n"
          ]
        }
      ]
    },
    {
      "cell_type": "code",
      "source": [
        "# outcome values order in sklearn\n",
        "tp, fn, fp, tn = confusion_matrix(actual, predicted, labels=[1,0]).reshape(-1)\n",
        "print('Outcome values : \\n', tp, fn, fp, tn)\n"
      ],
      "metadata": {
        "colab": {
          "base_uri": "https://localhost:8080/"
        },
        "id": "SzXZYQN0ex1A",
        "outputId": "29107742-59b8-48b9-f85a-09eb656ab56f"
      },
      "execution_count": 6,
      "outputs": [
        {
          "output_type": "stream",
          "name": "stdout",
          "text": [
            "Outcome values : \n",
            " 2 2 1 5\n"
          ]
        }
      ]
    },
    {
      "cell_type": "code",
      "source": [
        "# Também: caso binário, podemos extrair verdadeiros positivos, etc. da seguinte forma:\n",
        "tn, fpr, fn, tpr = confusion_matrix(actual, predicted).ravel()\n",
        "\n",
        "(tn, fpr, fn, tpr)"
      ],
      "metadata": {
        "colab": {
          "base_uri": "https://localhost:8080/"
        },
        "id": "4hYjDlvRgw75",
        "outputId": "78050cfc-a0f5-4fc1-8378-73120abe04b5"
      },
      "execution_count": 7,
      "outputs": [
        {
          "output_type": "execute_result",
          "data": {
            "text/plain": [
              "(5, 1, 2, 2)"
            ]
          },
          "metadata": {},
          "execution_count": 7
        }
      ]
    },
    {
      "cell_type": "code",
      "source": [
        "# classification report for precision, recall f1-score and accuracy\n",
        "matrix = classification_report(actual, predicted, labels = [1,0])\n",
        "\n",
        "print('Classification report : \\n',matrix)"
      ],
      "metadata": {
        "colab": {
          "base_uri": "https://localhost:8080/"
        },
        "id": "uLs_Vs0Af0bR",
        "outputId": "c9de6f5f-a1c0-4807-a8fb-7292144e49e3"
      },
      "execution_count": 8,
      "outputs": [
        {
          "output_type": "stream",
          "name": "stdout",
          "text": [
            "Classification report : \n",
            "               precision    recall  f1-score   support\n",
            "\n",
            "           1       0.67      0.50      0.57         4\n",
            "           0       0.71      0.83      0.77         6\n",
            "\n",
            "    accuracy                           0.70        10\n",
            "   macro avg       0.69      0.67      0.67        10\n",
            "weighted avg       0.70      0.70      0.69        10\n",
            "\n"
          ]
        }
      ]
    },
    {
      "cell_type": "code",
      "source": [
        ""
      ],
      "metadata": {
        "id": "RSBsyDpkhi-H"
      },
      "execution_count": null,
      "outputs": []
    }
  ]
}