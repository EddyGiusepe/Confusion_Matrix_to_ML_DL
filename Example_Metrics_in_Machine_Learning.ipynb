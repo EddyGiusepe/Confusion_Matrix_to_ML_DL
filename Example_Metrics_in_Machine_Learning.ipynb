{
  "nbformat": 4,
  "nbformat_minor": 0,
  "metadata": {
    "colab": {
      "name": "Example_Metrics_in_Machine_Learning.ipynb",
      "provenance": [],
      "collapsed_sections": [],
      "authorship_tag": "ABX9TyPcFI2PZiPG3jH4JVj9t4k3",
      "include_colab_link": true
    },
    "kernelspec": {
      "name": "python3",
      "display_name": "Python 3"
    },
    "language_info": {
      "name": "python"
    }
  },
  "cells": [
    {
      "cell_type": "markdown",
      "metadata": {
        "id": "view-in-github",
        "colab_type": "text"
      },
      "source": [
        "<a href=\"https://colab.research.google.com/github/EddyGiusepe/Confusion_Matrix_to_ML_DL/blob/main/Example_Metrics_in_Machine_Learning.ipynb\" target=\"_parent\"><img src=\"https://colab.research.google.com/assets/colab-badge.svg\" alt=\"Open In Colab\"/></a>"
      ]
    },
    {
      "cell_type": "markdown",
      "source": [
        "<h2 align=\"center\">Calculando as Métricas de Modelos de Machine Learning em Python</h2>\n"
      ],
      "metadata": {
        "id": "HKU3VTd3Ruh4"
      }
    },
    {
      "cell_type": "markdown",
      "source": [
        "Data Scientist: Dr.Eddy Giusepe Chirinos Isidro"
      ],
      "metadata": {
        "id": "855UMVBWTdGR"
      }
    },
    {
      "cell_type": "markdown",
      "source": [
        "Links de estudo e Dataset:\n",
        "\n",
        "* [Métricas de validação em Python](https://www.flai.com.br/juscudilio/como-calcular-as-metricas-de-validacao-dos-modelos-de-machine-learning-em-python/)\n",
        "\n",
        "* [Algoritmo KNN para classificação](https://inferir.com.br/artigos/algoritimo-knn-para-classificacao/)\n",
        "\n",
        "* [Dataset: Social Network Ads (Anúncios de redes sociais)](https://www.kaggle.com/datasets/rakeshrau/social-network-ads/code)"
      ],
      "metadata": {
        "id": "OyYJIzGkSpl0"
      }
    },
    {
      "cell_type": "markdown",
      "source": [
        "# KNN para Classificação"
      ],
      "metadata": {
        "id": "dGM7oVLBUESX"
      }
    },
    {
      "cell_type": "markdown",
      "source": [
        "O algoritmo KNN (`K Nearest Neighbor`) é um dos algoritmos mais utilizados em Machine Learning e também um dos mais simplistas, analisando seu processo de cálculo. Este algoritmo pode ser aplicado em diversos segmentos de negócio, logo também se aplica em diversos problemas como `finanças`, `saúde`, `ciência política`, `reconhecimento de imagem` e `reconhecimento de vídeos`. O que acho mais fantástico neste algoritmo é a possibilidade de utilização do mesmo tanto para `classificação` quanto para `regressão`. Na classificação a máquina irá dizer a que grupo determinado registro faz parte, dentro obviamente de um contexto de negócio. Já a regressão irá nos fornecer um número/valor, por exemplo o valor de mercado de uma determinada casa que irá ser colocada a venda. Para ambos os casos o algoritmo irá analisar diversas features (Colunas com dados, as quais geraram informação)."
      ],
      "metadata": {
        "id": "cDVSFWNqU_-6"
      }
    },
    {
      "cell_type": "markdown",
      "source": [
        "![](http://res.cloudinary.com/dyd911kmh/image/upload/f_auto,q_auto:best/v1531424125/KNN_final1_ibdm8a.png)"
      ],
      "metadata": {
        "id": "m_5yOFlnUKIi"
      }
    },
    {
      "cell_type": "markdown",
      "source": [
        "Ao ajustar um modelo de `Machine Learning` para `classificação` é necessário avaliar sua performance em dados desconhecidos. Existem muitas métricas como `Acurácia`, `Recall`, `Precision`, `F1-Score` e `AUC`, que avaliam seu modelo, antes de colocá-lo em produção."
      ],
      "metadata": {
        "id": "1c_T4iZ3ZUU7"
      }
    },
    {
      "cell_type": "markdown",
      "source": [
        "# Importando as nossas Bibliotecas necessárias"
      ],
      "metadata": {
        "id": "FkJ78sjeTXkx"
      }
    },
    {
      "cell_type": "code",
      "execution_count": 1,
      "metadata": {
        "id": "wT45ZeIFL4wm"
      },
      "outputs": [],
      "source": [
        "import pandas as pd # manipulação de dataset\n",
        "\n",
        "\n",
        "from sklearn.preprocessing import LabelEncoder # pré-processamento\n",
        "from sklearn.preprocessing import MinMaxScaler # padronização\n",
        "from sklearn.neighbors import KNeighborsClassifier # classificador\n",
        "from sklearn.model_selection import train_test_split #separando em dados teste e treinamento \n",
        "from sklearn.metrics import classification_report # metricas de validação\n",
        "from sklearn.metrics import accuracy_score # acuracia\n",
        "from sklearn.metrics import precision_score # precision\n",
        "from sklearn.metrics import recall_score #recall\n",
        "from sklearn.metrics import f1_score # f1-score\n",
        "from sklearn.metrics import roc_auc_score # area sob curva roc\n",
        "from sklearn.metrics import roc_curve # curva roc\n",
        "from sklearn.metrics import confusion_matrix #matriz de confusão\n",
        "\n",
        "import matplotlib.pyplot as plt  # gráfico\n",
        "%matplotlib inline\n"
      ]
    },
    {
      "cell_type": "markdown",
      "source": [
        "# Importando nosso Dataset a partir do Github"
      ],
      "metadata": {
        "id": "npiqqRPfWbuO"
      }
    },
    {
      "cell_type": "code",
      "source": [
        "url = 'https://raw.githubusercontent.com/scudilio/classification_metrics/master/dataset_Social_Network_Ads.csv'\n",
        "data = pd.read_csv(url)\n",
        "data.sample(6)\n"
      ],
      "metadata": {
        "colab": {
          "base_uri": "https://localhost:8080/",
          "height": 238
        },
        "id": "ZOr5a8VbM48C",
        "outputId": "01f7a165-0d0c-49a7-bc7e-f013f275918f"
      },
      "execution_count": 2,
      "outputs": [
        {
          "output_type": "execute_result",
          "data": {
            "text/plain": [
              "      User ID  Gender  Age  EstimatedSalary  Purchased\n",
              "178  15584114    Male   24            23000          0\n",
              "219  15732987    Male   59           143000          1\n",
              "135  15578006    Male   23            63000          0\n",
              "31   15729054  Female   27           137000          1\n",
              "33   15776733  Female   28            44000          0\n",
              "368  15779744    Male   38            71000          0"
            ],
            "text/html": [
              "\n",
              "  <div id=\"df-174f7b6c-b56e-4a11-86f4-058025d73c11\">\n",
              "    <div class=\"colab-df-container\">\n",
              "      <div>\n",
              "<style scoped>\n",
              "    .dataframe tbody tr th:only-of-type {\n",
              "        vertical-align: middle;\n",
              "    }\n",
              "\n",
              "    .dataframe tbody tr th {\n",
              "        vertical-align: top;\n",
              "    }\n",
              "\n",
              "    .dataframe thead th {\n",
              "        text-align: right;\n",
              "    }\n",
              "</style>\n",
              "<table border=\"1\" class=\"dataframe\">\n",
              "  <thead>\n",
              "    <tr style=\"text-align: right;\">\n",
              "      <th></th>\n",
              "      <th>User ID</th>\n",
              "      <th>Gender</th>\n",
              "      <th>Age</th>\n",
              "      <th>EstimatedSalary</th>\n",
              "      <th>Purchased</th>\n",
              "    </tr>\n",
              "  </thead>\n",
              "  <tbody>\n",
              "    <tr>\n",
              "      <th>178</th>\n",
              "      <td>15584114</td>\n",
              "      <td>Male</td>\n",
              "      <td>24</td>\n",
              "      <td>23000</td>\n",
              "      <td>0</td>\n",
              "    </tr>\n",
              "    <tr>\n",
              "      <th>219</th>\n",
              "      <td>15732987</td>\n",
              "      <td>Male</td>\n",
              "      <td>59</td>\n",
              "      <td>143000</td>\n",
              "      <td>1</td>\n",
              "    </tr>\n",
              "    <tr>\n",
              "      <th>135</th>\n",
              "      <td>15578006</td>\n",
              "      <td>Male</td>\n",
              "      <td>23</td>\n",
              "      <td>63000</td>\n",
              "      <td>0</td>\n",
              "    </tr>\n",
              "    <tr>\n",
              "      <th>31</th>\n",
              "      <td>15729054</td>\n",
              "      <td>Female</td>\n",
              "      <td>27</td>\n",
              "      <td>137000</td>\n",
              "      <td>1</td>\n",
              "    </tr>\n",
              "    <tr>\n",
              "      <th>33</th>\n",
              "      <td>15776733</td>\n",
              "      <td>Female</td>\n",
              "      <td>28</td>\n",
              "      <td>44000</td>\n",
              "      <td>0</td>\n",
              "    </tr>\n",
              "    <tr>\n",
              "      <th>368</th>\n",
              "      <td>15779744</td>\n",
              "      <td>Male</td>\n",
              "      <td>38</td>\n",
              "      <td>71000</td>\n",
              "      <td>0</td>\n",
              "    </tr>\n",
              "  </tbody>\n",
              "</table>\n",
              "</div>\n",
              "      <button class=\"colab-df-convert\" onclick=\"convertToInteractive('df-174f7b6c-b56e-4a11-86f4-058025d73c11')\"\n",
              "              title=\"Convert this dataframe to an interactive table.\"\n",
              "              style=\"display:none;\">\n",
              "        \n",
              "  <svg xmlns=\"http://www.w3.org/2000/svg\" height=\"24px\"viewBox=\"0 0 24 24\"\n",
              "       width=\"24px\">\n",
              "    <path d=\"M0 0h24v24H0V0z\" fill=\"none\"/>\n",
              "    <path d=\"M18.56 5.44l.94 2.06.94-2.06 2.06-.94-2.06-.94-.94-2.06-.94 2.06-2.06.94zm-11 1L8.5 8.5l.94-2.06 2.06-.94-2.06-.94L8.5 2.5l-.94 2.06-2.06.94zm10 10l.94 2.06.94-2.06 2.06-.94-2.06-.94-.94-2.06-.94 2.06-2.06.94z\"/><path d=\"M17.41 7.96l-1.37-1.37c-.4-.4-.92-.59-1.43-.59-.52 0-1.04.2-1.43.59L10.3 9.45l-7.72 7.72c-.78.78-.78 2.05 0 2.83L4 21.41c.39.39.9.59 1.41.59.51 0 1.02-.2 1.41-.59l7.78-7.78 2.81-2.81c.8-.78.8-2.07 0-2.86zM5.41 20L4 18.59l7.72-7.72 1.47 1.35L5.41 20z\"/>\n",
              "  </svg>\n",
              "      </button>\n",
              "      \n",
              "  <style>\n",
              "    .colab-df-container {\n",
              "      display:flex;\n",
              "      flex-wrap:wrap;\n",
              "      gap: 12px;\n",
              "    }\n",
              "\n",
              "    .colab-df-convert {\n",
              "      background-color: #E8F0FE;\n",
              "      border: none;\n",
              "      border-radius: 50%;\n",
              "      cursor: pointer;\n",
              "      display: none;\n",
              "      fill: #1967D2;\n",
              "      height: 32px;\n",
              "      padding: 0 0 0 0;\n",
              "      width: 32px;\n",
              "    }\n",
              "\n",
              "    .colab-df-convert:hover {\n",
              "      background-color: #E2EBFA;\n",
              "      box-shadow: 0px 1px 2px rgba(60, 64, 67, 0.3), 0px 1px 3px 1px rgba(60, 64, 67, 0.15);\n",
              "      fill: #174EA6;\n",
              "    }\n",
              "\n",
              "    [theme=dark] .colab-df-convert {\n",
              "      background-color: #3B4455;\n",
              "      fill: #D2E3FC;\n",
              "    }\n",
              "\n",
              "    [theme=dark] .colab-df-convert:hover {\n",
              "      background-color: #434B5C;\n",
              "      box-shadow: 0px 1px 3px 1px rgba(0, 0, 0, 0.15);\n",
              "      filter: drop-shadow(0px 1px 2px rgba(0, 0, 0, 0.3));\n",
              "      fill: #FFFFFF;\n",
              "    }\n",
              "  </style>\n",
              "\n",
              "      <script>\n",
              "        const buttonEl =\n",
              "          document.querySelector('#df-174f7b6c-b56e-4a11-86f4-058025d73c11 button.colab-df-convert');\n",
              "        buttonEl.style.display =\n",
              "          google.colab.kernel.accessAllowed ? 'block' : 'none';\n",
              "\n",
              "        async function convertToInteractive(key) {\n",
              "          const element = document.querySelector('#df-174f7b6c-b56e-4a11-86f4-058025d73c11');\n",
              "          const dataTable =\n",
              "            await google.colab.kernel.invokeFunction('convertToInteractive',\n",
              "                                                     [key], {});\n",
              "          if (!dataTable) return;\n",
              "\n",
              "          const docLinkHtml = 'Like what you see? Visit the ' +\n",
              "            '<a target=\"_blank\" href=https://colab.research.google.com/notebooks/data_table.ipynb>data table notebook</a>'\n",
              "            + ' to learn more about interactive tables.';\n",
              "          element.innerHTML = '';\n",
              "          dataTable['output_type'] = 'display_data';\n",
              "          await google.colab.output.renderOutput(dataTable, element);\n",
              "          const docLink = document.createElement('div');\n",
              "          docLink.innerHTML = docLinkHtml;\n",
              "          element.appendChild(docLink);\n",
              "        }\n",
              "      </script>\n",
              "    </div>\n",
              "  </div>\n",
              "  "
            ]
          },
          "metadata": {},
          "execution_count": 2
        }
      ]
    },
    {
      "cell_type": "code",
      "source": [
        "# Entendendo o dataset, colunas, data types, quantidade de registros por coluna\n",
        "data.info()"
      ],
      "metadata": {
        "colab": {
          "base_uri": "https://localhost:8080/"
        },
        "id": "tlN2FdcDW0XE",
        "outputId": "b19f3f89-2151-46a4-b9ed-88bae6d6494f"
      },
      "execution_count": 3,
      "outputs": [
        {
          "output_type": "stream",
          "name": "stdout",
          "text": [
            "<class 'pandas.core.frame.DataFrame'>\n",
            "RangeIndex: 400 entries, 0 to 399\n",
            "Data columns (total 5 columns):\n",
            " #   Column           Non-Null Count  Dtype \n",
            "---  ------           --------------  ----- \n",
            " 0   User ID          400 non-null    int64 \n",
            " 1   Gender           400 non-null    object\n",
            " 2   Age              400 non-null    int64 \n",
            " 3   EstimatedSalary  400 non-null    int64 \n",
            " 4   Purchased        400 non-null    int64 \n",
            "dtypes: int64(4), object(1)\n",
            "memory usage: 15.8+ KB\n"
          ]
        }
      ]
    },
    {
      "cell_type": "code",
      "source": [
        "# Verificando detalhes estatísticos do dataset\n",
        "data.describe()   "
      ],
      "metadata": {
        "colab": {
          "base_uri": "https://localhost:8080/",
          "height": 300
        },
        "id": "LyeosAOTW8tL",
        "outputId": "91d51a77-96be-4474-eb08-367dbf356686"
      },
      "execution_count": 4,
      "outputs": [
        {
          "output_type": "execute_result",
          "data": {
            "text/plain": [
              "            User ID         Age  EstimatedSalary   Purchased\n",
              "count  4.000000e+02  400.000000       400.000000  400.000000\n",
              "mean   1.569154e+07   37.655000     69742.500000    0.357500\n",
              "std    7.165832e+04   10.482877     34096.960282    0.479864\n",
              "min    1.556669e+07   18.000000     15000.000000    0.000000\n",
              "25%    1.562676e+07   29.750000     43000.000000    0.000000\n",
              "50%    1.569434e+07   37.000000     70000.000000    0.000000\n",
              "75%    1.575036e+07   46.000000     88000.000000    1.000000\n",
              "max    1.581524e+07   60.000000    150000.000000    1.000000"
            ],
            "text/html": [
              "\n",
              "  <div id=\"df-790f7e78-0b61-4488-bf87-f1b343ceb867\">\n",
              "    <div class=\"colab-df-container\">\n",
              "      <div>\n",
              "<style scoped>\n",
              "    .dataframe tbody tr th:only-of-type {\n",
              "        vertical-align: middle;\n",
              "    }\n",
              "\n",
              "    .dataframe tbody tr th {\n",
              "        vertical-align: top;\n",
              "    }\n",
              "\n",
              "    .dataframe thead th {\n",
              "        text-align: right;\n",
              "    }\n",
              "</style>\n",
              "<table border=\"1\" class=\"dataframe\">\n",
              "  <thead>\n",
              "    <tr style=\"text-align: right;\">\n",
              "      <th></th>\n",
              "      <th>User ID</th>\n",
              "      <th>Age</th>\n",
              "      <th>EstimatedSalary</th>\n",
              "      <th>Purchased</th>\n",
              "    </tr>\n",
              "  </thead>\n",
              "  <tbody>\n",
              "    <tr>\n",
              "      <th>count</th>\n",
              "      <td>4.000000e+02</td>\n",
              "      <td>400.000000</td>\n",
              "      <td>400.000000</td>\n",
              "      <td>400.000000</td>\n",
              "    </tr>\n",
              "    <tr>\n",
              "      <th>mean</th>\n",
              "      <td>1.569154e+07</td>\n",
              "      <td>37.655000</td>\n",
              "      <td>69742.500000</td>\n",
              "      <td>0.357500</td>\n",
              "    </tr>\n",
              "    <tr>\n",
              "      <th>std</th>\n",
              "      <td>7.165832e+04</td>\n",
              "      <td>10.482877</td>\n",
              "      <td>34096.960282</td>\n",
              "      <td>0.479864</td>\n",
              "    </tr>\n",
              "    <tr>\n",
              "      <th>min</th>\n",
              "      <td>1.556669e+07</td>\n",
              "      <td>18.000000</td>\n",
              "      <td>15000.000000</td>\n",
              "      <td>0.000000</td>\n",
              "    </tr>\n",
              "    <tr>\n",
              "      <th>25%</th>\n",
              "      <td>1.562676e+07</td>\n",
              "      <td>29.750000</td>\n",
              "      <td>43000.000000</td>\n",
              "      <td>0.000000</td>\n",
              "    </tr>\n",
              "    <tr>\n",
              "      <th>50%</th>\n",
              "      <td>1.569434e+07</td>\n",
              "      <td>37.000000</td>\n",
              "      <td>70000.000000</td>\n",
              "      <td>0.000000</td>\n",
              "    </tr>\n",
              "    <tr>\n",
              "      <th>75%</th>\n",
              "      <td>1.575036e+07</td>\n",
              "      <td>46.000000</td>\n",
              "      <td>88000.000000</td>\n",
              "      <td>1.000000</td>\n",
              "    </tr>\n",
              "    <tr>\n",
              "      <th>max</th>\n",
              "      <td>1.581524e+07</td>\n",
              "      <td>60.000000</td>\n",
              "      <td>150000.000000</td>\n",
              "      <td>1.000000</td>\n",
              "    </tr>\n",
              "  </tbody>\n",
              "</table>\n",
              "</div>\n",
              "      <button class=\"colab-df-convert\" onclick=\"convertToInteractive('df-790f7e78-0b61-4488-bf87-f1b343ceb867')\"\n",
              "              title=\"Convert this dataframe to an interactive table.\"\n",
              "              style=\"display:none;\">\n",
              "        \n",
              "  <svg xmlns=\"http://www.w3.org/2000/svg\" height=\"24px\"viewBox=\"0 0 24 24\"\n",
              "       width=\"24px\">\n",
              "    <path d=\"M0 0h24v24H0V0z\" fill=\"none\"/>\n",
              "    <path d=\"M18.56 5.44l.94 2.06.94-2.06 2.06-.94-2.06-.94-.94-2.06-.94 2.06-2.06.94zm-11 1L8.5 8.5l.94-2.06 2.06-.94-2.06-.94L8.5 2.5l-.94 2.06-2.06.94zm10 10l.94 2.06.94-2.06 2.06-.94-2.06-.94-.94-2.06-.94 2.06-2.06.94z\"/><path d=\"M17.41 7.96l-1.37-1.37c-.4-.4-.92-.59-1.43-.59-.52 0-1.04.2-1.43.59L10.3 9.45l-7.72 7.72c-.78.78-.78 2.05 0 2.83L4 21.41c.39.39.9.59 1.41.59.51 0 1.02-.2 1.41-.59l7.78-7.78 2.81-2.81c.8-.78.8-2.07 0-2.86zM5.41 20L4 18.59l7.72-7.72 1.47 1.35L5.41 20z\"/>\n",
              "  </svg>\n",
              "      </button>\n",
              "      \n",
              "  <style>\n",
              "    .colab-df-container {\n",
              "      display:flex;\n",
              "      flex-wrap:wrap;\n",
              "      gap: 12px;\n",
              "    }\n",
              "\n",
              "    .colab-df-convert {\n",
              "      background-color: #E8F0FE;\n",
              "      border: none;\n",
              "      border-radius: 50%;\n",
              "      cursor: pointer;\n",
              "      display: none;\n",
              "      fill: #1967D2;\n",
              "      height: 32px;\n",
              "      padding: 0 0 0 0;\n",
              "      width: 32px;\n",
              "    }\n",
              "\n",
              "    .colab-df-convert:hover {\n",
              "      background-color: #E2EBFA;\n",
              "      box-shadow: 0px 1px 2px rgba(60, 64, 67, 0.3), 0px 1px 3px 1px rgba(60, 64, 67, 0.15);\n",
              "      fill: #174EA6;\n",
              "    }\n",
              "\n",
              "    [theme=dark] .colab-df-convert {\n",
              "      background-color: #3B4455;\n",
              "      fill: #D2E3FC;\n",
              "    }\n",
              "\n",
              "    [theme=dark] .colab-df-convert:hover {\n",
              "      background-color: #434B5C;\n",
              "      box-shadow: 0px 1px 3px 1px rgba(0, 0, 0, 0.15);\n",
              "      filter: drop-shadow(0px 1px 2px rgba(0, 0, 0, 0.3));\n",
              "      fill: #FFFFFF;\n",
              "    }\n",
              "  </style>\n",
              "\n",
              "      <script>\n",
              "        const buttonEl =\n",
              "          document.querySelector('#df-790f7e78-0b61-4488-bf87-f1b343ceb867 button.colab-df-convert');\n",
              "        buttonEl.style.display =\n",
              "          google.colab.kernel.accessAllowed ? 'block' : 'none';\n",
              "\n",
              "        async function convertToInteractive(key) {\n",
              "          const element = document.querySelector('#df-790f7e78-0b61-4488-bf87-f1b343ceb867');\n",
              "          const dataTable =\n",
              "            await google.colab.kernel.invokeFunction('convertToInteractive',\n",
              "                                                     [key], {});\n",
              "          if (!dataTable) return;\n",
              "\n",
              "          const docLinkHtml = 'Like what you see? Visit the ' +\n",
              "            '<a target=\"_blank\" href=https://colab.research.google.com/notebooks/data_table.ipynb>data table notebook</a>'\n",
              "            + ' to learn more about interactive tables.';\n",
              "          element.innerHTML = '';\n",
              "          dataTable['output_type'] = 'display_data';\n",
              "          await google.colab.output.renderOutput(dataTable, element);\n",
              "          const docLink = document.createElement('div');\n",
              "          docLink.innerHTML = docLinkHtml;\n",
              "          element.appendChild(docLink);\n",
              "        }\n",
              "      </script>\n",
              "    </div>\n",
              "  </div>\n",
              "  "
            ]
          },
          "metadata": {},
          "execution_count": 4
        }
      ]
    },
    {
      "cell_type": "code",
      "source": [
        "# Valores únicos na coluna: \"Purchased\"\n",
        "\n",
        "data['Purchased'].unique()"
      ],
      "metadata": {
        "colab": {
          "base_uri": "https://localhost:8080/"
        },
        "id": "qagJFh_ENGhm",
        "outputId": "18a592ba-beb3-4628-d6a8-48eddf8a4446"
      },
      "execution_count": 5,
      "outputs": [
        {
          "output_type": "execute_result",
          "data": {
            "text/plain": [
              "array([0, 1])"
            ]
          },
          "metadata": {},
          "execution_count": 5
        }
      ]
    },
    {
      "cell_type": "code",
      "source": [
        "# Quantidade de valores únicos na coluna: \"Purchased\"\n",
        "data['Purchased'].nunique()"
      ],
      "metadata": {
        "colab": {
          "base_uri": "https://localhost:8080/"
        },
        "id": "oCRa28luY16Z",
        "outputId": "6f4e3a0b-98fb-49a6-ce45-8c5569c3c52b"
      },
      "execution_count": 6,
      "outputs": [
        {
          "output_type": "execute_result",
          "data": {
            "text/plain": [
              "2"
            ]
          },
          "metadata": {},
          "execution_count": 6
        }
      ]
    },
    {
      "cell_type": "code",
      "source": [
        "# Reparamos que aqui basicamente são as somas dos números 1. Ou seja das classes \"1\".\n",
        "data['Purchased'].sum()"
      ],
      "metadata": {
        "colab": {
          "base_uri": "https://localhost:8080/"
        },
        "id": "nqEAttkK49Sr",
        "outputId": "677deea5-0c64-4886-e15d-5f891e3576ad"
      },
      "execution_count": 9,
      "outputs": [
        {
          "output_type": "execute_result",
          "data": {
            "text/plain": [
              "143"
            ]
          },
          "metadata": {},
          "execution_count": 9
        }
      ]
    },
    {
      "cell_type": "code",
      "source": [
        "data['Purchased'].count()"
      ],
      "metadata": {
        "colab": {
          "base_uri": "https://localhost:8080/"
        },
        "id": "ToqlpQXF44C-",
        "outputId": "ea999838-6c89-4e73-c98a-0e13b33eda6c"
      },
      "execution_count": 10,
      "outputs": [
        {
          "output_type": "execute_result",
          "data": {
            "text/plain": [
              "400"
            ]
          },
          "metadata": {},
          "execution_count": 10
        }
      ]
    },
    {
      "cell_type": "code",
      "source": [
        "# Podemos perceber que apenas 35.75% dos clientes compraram o anúncio.\n",
        "data['Purchased'].sum()/data['Purchased'].count()*100"
      ],
      "metadata": {
        "colab": {
          "base_uri": "https://localhost:8080/"
        },
        "id": "MIPOi-0UO-eM",
        "outputId": "c8082f9f-f165-4101-da3f-70e7c44d12cd"
      },
      "execution_count": 12,
      "outputs": [
        {
          "output_type": "execute_result",
          "data": {
            "text/plain": [
              "35.75"
            ]
          },
          "metadata": {},
          "execution_count": 12
        }
      ]
    },
    {
      "cell_type": "code",
      "source": [
        "data.head()"
      ],
      "metadata": {
        "colab": {
          "base_uri": "https://localhost:8080/",
          "height": 206
        },
        "id": "Fjrh-P3w9Zp6",
        "outputId": "f673258a-e957-43ca-b6ef-0eaf031a1d56"
      },
      "execution_count": 15,
      "outputs": [
        {
          "output_type": "execute_result",
          "data": {
            "text/plain": [
              "    User ID  Gender  Age  EstimatedSalary  Purchased\n",
              "0  15624510    Male   19            19000          0\n",
              "1  15810944    Male   35            20000          0\n",
              "2  15668575  Female   26            43000          0\n",
              "3  15603246  Female   27            57000          0\n",
              "4  15804002    Male   19            76000          0"
            ],
            "text/html": [
              "\n",
              "  <div id=\"df-3617c58e-b411-4024-9b01-aa32ac4c6c7d\">\n",
              "    <div class=\"colab-df-container\">\n",
              "      <div>\n",
              "<style scoped>\n",
              "    .dataframe tbody tr th:only-of-type {\n",
              "        vertical-align: middle;\n",
              "    }\n",
              "\n",
              "    .dataframe tbody tr th {\n",
              "        vertical-align: top;\n",
              "    }\n",
              "\n",
              "    .dataframe thead th {\n",
              "        text-align: right;\n",
              "    }\n",
              "</style>\n",
              "<table border=\"1\" class=\"dataframe\">\n",
              "  <thead>\n",
              "    <tr style=\"text-align: right;\">\n",
              "      <th></th>\n",
              "      <th>User ID</th>\n",
              "      <th>Gender</th>\n",
              "      <th>Age</th>\n",
              "      <th>EstimatedSalary</th>\n",
              "      <th>Purchased</th>\n",
              "    </tr>\n",
              "  </thead>\n",
              "  <tbody>\n",
              "    <tr>\n",
              "      <th>0</th>\n",
              "      <td>15624510</td>\n",
              "      <td>Male</td>\n",
              "      <td>19</td>\n",
              "      <td>19000</td>\n",
              "      <td>0</td>\n",
              "    </tr>\n",
              "    <tr>\n",
              "      <th>1</th>\n",
              "      <td>15810944</td>\n",
              "      <td>Male</td>\n",
              "      <td>35</td>\n",
              "      <td>20000</td>\n",
              "      <td>0</td>\n",
              "    </tr>\n",
              "    <tr>\n",
              "      <th>2</th>\n",
              "      <td>15668575</td>\n",
              "      <td>Female</td>\n",
              "      <td>26</td>\n",
              "      <td>43000</td>\n",
              "      <td>0</td>\n",
              "    </tr>\n",
              "    <tr>\n",
              "      <th>3</th>\n",
              "      <td>15603246</td>\n",
              "      <td>Female</td>\n",
              "      <td>27</td>\n",
              "      <td>57000</td>\n",
              "      <td>0</td>\n",
              "    </tr>\n",
              "    <tr>\n",
              "      <th>4</th>\n",
              "      <td>15804002</td>\n",
              "      <td>Male</td>\n",
              "      <td>19</td>\n",
              "      <td>76000</td>\n",
              "      <td>0</td>\n",
              "    </tr>\n",
              "  </tbody>\n",
              "</table>\n",
              "</div>\n",
              "      <button class=\"colab-df-convert\" onclick=\"convertToInteractive('df-3617c58e-b411-4024-9b01-aa32ac4c6c7d')\"\n",
              "              title=\"Convert this dataframe to an interactive table.\"\n",
              "              style=\"display:none;\">\n",
              "        \n",
              "  <svg xmlns=\"http://www.w3.org/2000/svg\" height=\"24px\"viewBox=\"0 0 24 24\"\n",
              "       width=\"24px\">\n",
              "    <path d=\"M0 0h24v24H0V0z\" fill=\"none\"/>\n",
              "    <path d=\"M18.56 5.44l.94 2.06.94-2.06 2.06-.94-2.06-.94-.94-2.06-.94 2.06-2.06.94zm-11 1L8.5 8.5l.94-2.06 2.06-.94-2.06-.94L8.5 2.5l-.94 2.06-2.06.94zm10 10l.94 2.06.94-2.06 2.06-.94-2.06-.94-.94-2.06-.94 2.06-2.06.94z\"/><path d=\"M17.41 7.96l-1.37-1.37c-.4-.4-.92-.59-1.43-.59-.52 0-1.04.2-1.43.59L10.3 9.45l-7.72 7.72c-.78.78-.78 2.05 0 2.83L4 21.41c.39.39.9.59 1.41.59.51 0 1.02-.2 1.41-.59l7.78-7.78 2.81-2.81c.8-.78.8-2.07 0-2.86zM5.41 20L4 18.59l7.72-7.72 1.47 1.35L5.41 20z\"/>\n",
              "  </svg>\n",
              "      </button>\n",
              "      \n",
              "  <style>\n",
              "    .colab-df-container {\n",
              "      display:flex;\n",
              "      flex-wrap:wrap;\n",
              "      gap: 12px;\n",
              "    }\n",
              "\n",
              "    .colab-df-convert {\n",
              "      background-color: #E8F0FE;\n",
              "      border: none;\n",
              "      border-radius: 50%;\n",
              "      cursor: pointer;\n",
              "      display: none;\n",
              "      fill: #1967D2;\n",
              "      height: 32px;\n",
              "      padding: 0 0 0 0;\n",
              "      width: 32px;\n",
              "    }\n",
              "\n",
              "    .colab-df-convert:hover {\n",
              "      background-color: #E2EBFA;\n",
              "      box-shadow: 0px 1px 2px rgba(60, 64, 67, 0.3), 0px 1px 3px 1px rgba(60, 64, 67, 0.15);\n",
              "      fill: #174EA6;\n",
              "    }\n",
              "\n",
              "    [theme=dark] .colab-df-convert {\n",
              "      background-color: #3B4455;\n",
              "      fill: #D2E3FC;\n",
              "    }\n",
              "\n",
              "    [theme=dark] .colab-df-convert:hover {\n",
              "      background-color: #434B5C;\n",
              "      box-shadow: 0px 1px 3px 1px rgba(0, 0, 0, 0.15);\n",
              "      filter: drop-shadow(0px 1px 2px rgba(0, 0, 0, 0.3));\n",
              "      fill: #FFFFFF;\n",
              "    }\n",
              "  </style>\n",
              "\n",
              "      <script>\n",
              "        const buttonEl =\n",
              "          document.querySelector('#df-3617c58e-b411-4024-9b01-aa32ac4c6c7d button.colab-df-convert');\n",
              "        buttonEl.style.display =\n",
              "          google.colab.kernel.accessAllowed ? 'block' : 'none';\n",
              "\n",
              "        async function convertToInteractive(key) {\n",
              "          const element = document.querySelector('#df-3617c58e-b411-4024-9b01-aa32ac4c6c7d');\n",
              "          const dataTable =\n",
              "            await google.colab.kernel.invokeFunction('convertToInteractive',\n",
              "                                                     [key], {});\n",
              "          if (!dataTable) return;\n",
              "\n",
              "          const docLinkHtml = 'Like what you see? Visit the ' +\n",
              "            '<a target=\"_blank\" href=https://colab.research.google.com/notebooks/data_table.ipynb>data table notebook</a>'\n",
              "            + ' to learn more about interactive tables.';\n",
              "          element.innerHTML = '';\n",
              "          dataTable['output_type'] = 'display_data';\n",
              "          await google.colab.output.renderOutput(dataTable, element);\n",
              "          const docLink = document.createElement('div');\n",
              "          docLink.innerHTML = docLinkHtml;\n",
              "          element.appendChild(docLink);\n",
              "        }\n",
              "      </script>\n",
              "    </div>\n",
              "  </div>\n",
              "  "
            ]
          },
          "metadata": {},
          "execution_count": 15
        }
      ]
    },
    {
      "cell_type": "markdown",
      "source": [
        "# `X` $⟹$ variável Independente e `y` $⟹$ variável Dependente"
      ],
      "metadata": {
        "id": "Va3m2T9vCPDb"
      }
    },
    {
      "cell_type": "code",
      "source": [
        "# Criando variáveis independentes e dependentes\n",
        "# Utilizaremos apenas as variáveis numéricas\n",
        "\n",
        "y = data['Purchased']\n",
        "\n",
        "X = data.iloc[ :, [2,3]].values # Na seguiente célula podemos comprovar que pegamos a 2da e 3ra coluna"
      ],
      "metadata": {
        "id": "aZcCMic1PUEc"
      },
      "execution_count": 37,
      "outputs": []
    },
    {
      "cell_type": "code",
      "source": [
        "y.shape"
      ],
      "metadata": {
        "colab": {
          "base_uri": "https://localhost:8080/"
        },
        "id": "QsVuxAxvPeTZ",
        "outputId": "b875d9aa-eabe-41ed-8d1d-eb9093b2b6c1"
      },
      "execution_count": 38,
      "outputs": [
        {
          "output_type": "execute_result",
          "data": {
            "text/plain": [
              "(400,)"
            ]
          },
          "metadata": {},
          "execution_count": 38
        }
      ]
    },
    {
      "cell_type": "code",
      "source": [
        "X.shape"
      ],
      "metadata": {
        "colab": {
          "base_uri": "https://localhost:8080/"
        },
        "id": "8kO_5y6uPg2U",
        "outputId": "93b2bf83-c7de-4c84-815f-e808cad29bc5"
      },
      "execution_count": 39,
      "outputs": [
        {
          "output_type": "execute_result",
          "data": {
            "text/plain": [
              "(400, 2)"
            ]
          },
          "metadata": {},
          "execution_count": 39
        }
      ]
    },
    {
      "cell_type": "code",
      "source": [
        "# Verificando as colunas 2 e 3 \n",
        "pd.DataFrame(X).head()"
      ],
      "metadata": {
        "colab": {
          "base_uri": "https://localhost:8080/",
          "height": 206
        },
        "id": "mHuiWCMT-BNB",
        "outputId": "6df477c7-3b14-4bbf-95b6-f810f2a8f2ab"
      },
      "execution_count": 40,
      "outputs": [
        {
          "output_type": "execute_result",
          "data": {
            "text/plain": [
              "    0      1\n",
              "0  19  19000\n",
              "1  35  20000\n",
              "2  26  43000\n",
              "3  27  57000\n",
              "4  19  76000"
            ],
            "text/html": [
              "\n",
              "  <div id=\"df-ededac05-9e4a-4ed4-8d35-201e70fa2e3c\">\n",
              "    <div class=\"colab-df-container\">\n",
              "      <div>\n",
              "<style scoped>\n",
              "    .dataframe tbody tr th:only-of-type {\n",
              "        vertical-align: middle;\n",
              "    }\n",
              "\n",
              "    .dataframe tbody tr th {\n",
              "        vertical-align: top;\n",
              "    }\n",
              "\n",
              "    .dataframe thead th {\n",
              "        text-align: right;\n",
              "    }\n",
              "</style>\n",
              "<table border=\"1\" class=\"dataframe\">\n",
              "  <thead>\n",
              "    <tr style=\"text-align: right;\">\n",
              "      <th></th>\n",
              "      <th>0</th>\n",
              "      <th>1</th>\n",
              "    </tr>\n",
              "  </thead>\n",
              "  <tbody>\n",
              "    <tr>\n",
              "      <th>0</th>\n",
              "      <td>19</td>\n",
              "      <td>19000</td>\n",
              "    </tr>\n",
              "    <tr>\n",
              "      <th>1</th>\n",
              "      <td>35</td>\n",
              "      <td>20000</td>\n",
              "    </tr>\n",
              "    <tr>\n",
              "      <th>2</th>\n",
              "      <td>26</td>\n",
              "      <td>43000</td>\n",
              "    </tr>\n",
              "    <tr>\n",
              "      <th>3</th>\n",
              "      <td>27</td>\n",
              "      <td>57000</td>\n",
              "    </tr>\n",
              "    <tr>\n",
              "      <th>4</th>\n",
              "      <td>19</td>\n",
              "      <td>76000</td>\n",
              "    </tr>\n",
              "  </tbody>\n",
              "</table>\n",
              "</div>\n",
              "      <button class=\"colab-df-convert\" onclick=\"convertToInteractive('df-ededac05-9e4a-4ed4-8d35-201e70fa2e3c')\"\n",
              "              title=\"Convert this dataframe to an interactive table.\"\n",
              "              style=\"display:none;\">\n",
              "        \n",
              "  <svg xmlns=\"http://www.w3.org/2000/svg\" height=\"24px\"viewBox=\"0 0 24 24\"\n",
              "       width=\"24px\">\n",
              "    <path d=\"M0 0h24v24H0V0z\" fill=\"none\"/>\n",
              "    <path d=\"M18.56 5.44l.94 2.06.94-2.06 2.06-.94-2.06-.94-.94-2.06-.94 2.06-2.06.94zm-11 1L8.5 8.5l.94-2.06 2.06-.94-2.06-.94L8.5 2.5l-.94 2.06-2.06.94zm10 10l.94 2.06.94-2.06 2.06-.94-2.06-.94-.94-2.06-.94 2.06-2.06.94z\"/><path d=\"M17.41 7.96l-1.37-1.37c-.4-.4-.92-.59-1.43-.59-.52 0-1.04.2-1.43.59L10.3 9.45l-7.72 7.72c-.78.78-.78 2.05 0 2.83L4 21.41c.39.39.9.59 1.41.59.51 0 1.02-.2 1.41-.59l7.78-7.78 2.81-2.81c.8-.78.8-2.07 0-2.86zM5.41 20L4 18.59l7.72-7.72 1.47 1.35L5.41 20z\"/>\n",
              "  </svg>\n",
              "      </button>\n",
              "      \n",
              "  <style>\n",
              "    .colab-df-container {\n",
              "      display:flex;\n",
              "      flex-wrap:wrap;\n",
              "      gap: 12px;\n",
              "    }\n",
              "\n",
              "    .colab-df-convert {\n",
              "      background-color: #E8F0FE;\n",
              "      border: none;\n",
              "      border-radius: 50%;\n",
              "      cursor: pointer;\n",
              "      display: none;\n",
              "      fill: #1967D2;\n",
              "      height: 32px;\n",
              "      padding: 0 0 0 0;\n",
              "      width: 32px;\n",
              "    }\n",
              "\n",
              "    .colab-df-convert:hover {\n",
              "      background-color: #E2EBFA;\n",
              "      box-shadow: 0px 1px 2px rgba(60, 64, 67, 0.3), 0px 1px 3px 1px rgba(60, 64, 67, 0.15);\n",
              "      fill: #174EA6;\n",
              "    }\n",
              "\n",
              "    [theme=dark] .colab-df-convert {\n",
              "      background-color: #3B4455;\n",
              "      fill: #D2E3FC;\n",
              "    }\n",
              "\n",
              "    [theme=dark] .colab-df-convert:hover {\n",
              "      background-color: #434B5C;\n",
              "      box-shadow: 0px 1px 3px 1px rgba(0, 0, 0, 0.15);\n",
              "      filter: drop-shadow(0px 1px 2px rgba(0, 0, 0, 0.3));\n",
              "      fill: #FFFFFF;\n",
              "    }\n",
              "  </style>\n",
              "\n",
              "      <script>\n",
              "        const buttonEl =\n",
              "          document.querySelector('#df-ededac05-9e4a-4ed4-8d35-201e70fa2e3c button.colab-df-convert');\n",
              "        buttonEl.style.display =\n",
              "          google.colab.kernel.accessAllowed ? 'block' : 'none';\n",
              "\n",
              "        async function convertToInteractive(key) {\n",
              "          const element = document.querySelector('#df-ededac05-9e4a-4ed4-8d35-201e70fa2e3c');\n",
              "          const dataTable =\n",
              "            await google.colab.kernel.invokeFunction('convertToInteractive',\n",
              "                                                     [key], {});\n",
              "          if (!dataTable) return;\n",
              "\n",
              "          const docLinkHtml = 'Like what you see? Visit the ' +\n",
              "            '<a target=\"_blank\" href=https://colab.research.google.com/notebooks/data_table.ipynb>data table notebook</a>'\n",
              "            + ' to learn more about interactive tables.';\n",
              "          element.innerHTML = '';\n",
              "          dataTable['output_type'] = 'display_data';\n",
              "          await google.colab.output.renderOutput(dataTable, element);\n",
              "          const docLink = document.createElement('div');\n",
              "          docLink.innerHTML = docLinkHtml;\n",
              "          element.appendChild(docLink);\n",
              "        }\n",
              "      </script>\n",
              "    </div>\n",
              "  </div>\n",
              "  "
            ]
          },
          "metadata": {},
          "execution_count": 40
        }
      ]
    },
    {
      "cell_type": "code",
      "source": [
        "# Verificação de registros nulos no dataset\n",
        "\n",
        "def distribuicao (data):\n",
        "    '''\n",
        "    Esta função exibirá a quantidade de registros únicos para cada coluna\n",
        "    existente no dataset\n",
        "    \n",
        "    dataframe -> Histogram\n",
        "    '''\n",
        "    plt.figure(figsize=(8, 5))\n",
        "    # Calculando valores únicos para cada label: num_unique_labels\n",
        "    num_unique_labels = data.apply(pd.Series.nunique)\n",
        "\n",
        "    # Plotando valores\n",
        "    num_unique_labels.plot( kind='bar')\n",
        "    \n",
        "    # Nomeando os eixos\n",
        "    plt.xlabel('Campos', fontsize=20, c='r')\n",
        "    plt.ylabel('Número de Registros únicos', fontsize=20, c='r')\n",
        "    plt.title('Distribuição de dados únicos do DataSet', fontsize=25, c='r')\n",
        "    plt.grid(True)\n",
        "    \n",
        "    # Exibindo gráfico\n",
        "    plt.show()\n",
        "\n",
        "\n",
        "\n",
        "distribuicao(data)"
      ],
      "metadata": {
        "colab": {
          "base_uri": "https://localhost:8080/",
          "height": 441
        },
        "id": "mXHPoGmYYTF7",
        "outputId": "ed974228-e261-4721-8d00-8aceab1d9608"
      },
      "execution_count": 36,
      "outputs": [
        {
          "output_type": "display_data",
          "data": {
            "text/plain": [
              "<Figure size 576x360 with 1 Axes>"
            ],
            "image/png": "[encoded data removed]"
          },
          "metadata": {
            "needs_background": "light"
          }
        }
      ]
    },
    {
      "cell_type": "markdown",
      "source": [
        "# Pré-Processamento: padronizando as variáveis ou também chamado: Feature Scaling"
      ],
      "metadata": {
        "id": "Yxk4fUZqDPxl"
      }
    },
    {
      "cell_type": "markdown",
      "source": [
        "Padronizamos nossa variável X: [sklearn.preprocessing.MinMaxScaler](https://scikit-learn.org/stable/modules/generated/sklearn.preprocessing.MinMaxScaler.html)"
      ],
      "metadata": {
        "id": "qni-OrDWEmSF"
      }
    },
    {
      "cell_type": "markdown",
      "source": [
        "Etapa importante que irá reduzir a escala numérica das colunas (nossas features), para que todas estejam dentro de uma mesma escala de valor, lembrando que na matemática os números são infinitos dentro de suas escalas, podendo serem representados então em diversas escalas diferentes. <font color=\"orange\">Se houverem medidas com escalas de valor muito diferentes a distância calculada pelo algorítimo será influênciada podendo gerar resultados errôneos</font>."
      ],
      "metadata": {
        "id": "wLH5_MY4IjCO"
      }
    },
    {
      "cell_type": "code",
      "source": [
        "X = MinMaxScaler().fit_transform(X) # assim: [0, 1]"
      ],
      "metadata": {
        "id": "kp1MePSfPiV1"
      },
      "execution_count": 47,
      "outputs": []
    },
    {
      "cell_type": "code",
      "source": [
        "X.min()"
      ],
      "metadata": {
        "colab": {
          "base_uri": "https://localhost:8080/"
        },
        "id": "1hwEDmggDsAg",
        "outputId": "048c31bd-515d-4544-c509-9fa045e52a4e"
      },
      "execution_count": 48,
      "outputs": [
        {
          "output_type": "execute_result",
          "data": {
            "text/plain": [
              "0.0"
            ]
          },
          "metadata": {},
          "execution_count": 48
        }
      ]
    },
    {
      "cell_type": "code",
      "source": [
        "X.max()"
      ],
      "metadata": {
        "colab": {
          "base_uri": "https://localhost:8080/"
        },
        "id": "-CZLpaPmDvEU",
        "outputId": "cbe0bb9a-906a-4aef-fcbb-d587df79cfad"
      },
      "execution_count": 49,
      "outputs": [
        {
          "output_type": "execute_result",
          "data": {
            "text/plain": [
              "1.0"
            ]
          },
          "metadata": {},
          "execution_count": 49
        }
      ]
    },
    {
      "cell_type": "markdown",
      "source": [
        "# Separando o Dados em Treino e Teste"
      ],
      "metadata": {
        "id": "ytHP9VFaG6hO"
      }
    },
    {
      "cell_type": "code",
      "source": [
        "x_treino, x_teste, y_treino, y_teste  = train_test_split(X, y, test_size = 0.25, random_state = 1)"
      ],
      "metadata": {
        "id": "VX-E-uk7P1YU"
      },
      "execution_count": 50,
      "outputs": []
    },
    {
      "cell_type": "markdown",
      "source": [
        "# Fitting (ajustando) o KNN nos Dados de Treino"
      ],
      "metadata": {
        "id": "Z7BkbzzmHWUh"
      }
    },
    {
      "cell_type": "code",
      "source": [
        "knn = KNeighborsClassifier()\n",
        "\n",
        "knn.fit(x_treino, y_treino)"
      ],
      "metadata": {
        "colab": {
          "base_uri": "https://localhost:8080/"
        },
        "id": "CGjrQ1VbP3bX",
        "outputId": "f878ad50-544a-4875-e9cd-9aa3dbe8ddd5"
      },
      "execution_count": 51,
      "outputs": [
        {
          "output_type": "execute_result",
          "data": {
            "text/plain": [
              "KNeighborsClassifier()"
            ]
          },
          "metadata": {},
          "execution_count": 51
        }
      ]
    },
    {
      "cell_type": "markdown",
      "source": [
        "<font color=\"orange\">Exemplo:</font>"
      ],
      "metadata": {
        "id": "kzndB6yDQoUG"
      }
    },
    {
      "cell_type": "markdown",
      "source": [
        "![image.png](data:image/png;base64,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)"
      ],
      "metadata": {
        "id": "eOBABDRhQt7F"
      }
    },
    {
      "cell_type": "markdown",
      "source": [
        "# Calculando a Matriz de Confusão nos Dados de Teste"
      ],
      "metadata": {
        "id": "dBRsMwcMU52S"
      }
    },
    {
      "cell_type": "code",
      "source": [
        "#Calculando a matriz de confusão\n",
        "resultado_knn = knn.predict(x_teste) # Fazemos predições!\n",
        "\n",
        "print(pd.crosstab(y_teste, resultado_knn, rownames=['Real'], colnames=['Predito'], margins=True))"
      ],
      "metadata": {
        "colab": {
          "base_uri": "https://localhost:8080/"
        },
        "id": "Z7i86pR_P8-G",
        "outputId": "fb13480a-22d0-4f79-f1aa-4568d6c011bf"
      },
      "execution_count": 77,
      "outputs": [
        {
          "output_type": "stream",
          "name": "stdout",
          "text": [
            "Predito   0   1  All\n",
            "Real                \n",
            "0        50   8   58\n",
            "1         4  38   42\n",
            "All      54  46  100\n"
          ]
        }
      ]
    },
    {
      "cell_type": "code",
      "source": [
        "# Também:  Confusion Matrix usando seaborn\n",
        "\n",
        "import seaborn as sn\n",
        "\n",
        "cm = confusion_matrix(y_teste, resultado_knn)\n",
        "sn.heatmap(cm, annot=True)\n",
        "plt.show()"
      ],
      "metadata": {
        "colab": {
          "base_uri": "https://localhost:8080/",
          "height": 269
        },
        "id": "i7Rx8p5MRLQl",
        "outputId": "18f67678-455e-46c6-f24e-1e0c923cba71"
      },
      "execution_count": 78,
      "outputs": [
        {
          "output_type": "display_data",
          "data": {
            "text/plain": [
              "<Figure size 432x288 with 2 Axes>"
            ],
            "image/png": "[encoded data removed]"
          },
          "metadata": {
            "needs_background": "light"
          }
        }
      ]
    },
    {
      "cell_type": "markdown",
      "source": [
        "# Calculando as métricas"
      ],
      "metadata": {
        "id": "e0WFglZ-VB2Q"
      }
    },
    {
      "cell_type": "markdown",
      "source": [
        "## Accuracy (Acurácia)"
      ],
      "metadata": {
        "id": "NmaCyLuFVHfH"
      }
    },
    {
      "cell_type": "code",
      "source": [
        "# Acurácia\n",
        "acuracia = accuracy_score(y_teste, resultado_knn)\n",
        "print(f'Acurácia:', acuracia*100,'%')"
      ],
      "metadata": {
        "colab": {
          "base_uri": "https://localhost:8080/"
        },
        "id": "dhsJrnhEQB2W",
        "outputId": "aefe08a1-8e4e-4584-8e76-29f03d5095c7"
      },
      "execution_count": 79,
      "outputs": [
        {
          "output_type": "stream",
          "name": "stdout",
          "text": [
            "Acurácia: 88.0 %\n"
          ]
        }
      ]
    },
    {
      "cell_type": "markdown",
      "source": [
        "## Precision"
      ],
      "metadata": {
        "id": "wfbP0H35WD03"
      }
    },
    {
      "cell_type": "code",
      "source": [
        "# Precision\n",
        "precision = precision_score(y_teste, resultado_knn)\n",
        "print('Precision: %f' % precision)"
      ],
      "metadata": {
        "colab": {
          "base_uri": "https://localhost:8080/"
        },
        "id": "L546quUiQMzj",
        "outputId": "374f549a-cdf8-4be9-93f5-fdf0139269f5"
      },
      "execution_count": 80,
      "outputs": [
        {
          "output_type": "stream",
          "name": "stdout",
          "text": [
            "Precision: 0.826087\n"
          ]
        }
      ]
    },
    {
      "cell_type": "markdown",
      "source": [
        "## Recall"
      ],
      "metadata": {
        "id": "i7q2ckYdWXyN"
      }
    },
    {
      "cell_type": "code",
      "source": [
        "# Recall\n",
        "recall = recall_score(y_teste, resultado_knn)\n",
        "print('Recall: %f' % recall)"
      ],
      "metadata": {
        "colab": {
          "base_uri": "https://localhost:8080/"
        },
        "id": "NCMZI287Qdog",
        "outputId": "a60f7540-6ed2-4e37-b3f0-c0dc914aaa4b"
      },
      "execution_count": 81,
      "outputs": [
        {
          "output_type": "stream",
          "name": "stdout",
          "text": [
            "Recall: 0.904762\n"
          ]
        }
      ]
    },
    {
      "cell_type": "markdown",
      "source": [
        "## f1-score"
      ],
      "metadata": {
        "id": "m0EVSN3iWa-r"
      }
    },
    {
      "cell_type": "code",
      "source": [
        "# F1-Score\n",
        "f1 = f1_score(y_teste, resultado_knn)\n",
        "print('f1-score: %f' % f1)"
      ],
      "metadata": {
        "colab": {
          "base_uri": "https://localhost:8080/"
        },
        "id": "3Y3GEvq3QfbU",
        "outputId": "a584100f-a689-4557-ee71-55f08eb8d4c5"
      },
      "execution_count": 82,
      "outputs": [
        {
          "output_type": "stream",
          "name": "stdout",
          "text": [
            "f1-score: 0.863636\n"
          ]
        }
      ]
    },
    {
      "cell_type": "markdown",
      "source": [
        "## Analisando as métricas de acordo com as classes"
      ],
      "metadata": {
        "id": "DNJp569BWoCj"
      }
    },
    {
      "cell_type": "code",
      "source": [
        "print(classification_report(y_teste, resultado_knn))\n"
      ],
      "metadata": {
        "colab": {
          "base_uri": "https://localhost:8080/"
        },
        "id": "n3XbsvbwQiiv",
        "outputId": "05dbda15-3adb-451e-ea5c-e1b731e40e7d"
      },
      "execution_count": 83,
      "outputs": [
        {
          "output_type": "stream",
          "name": "stdout",
          "text": [
            "              precision    recall  f1-score   support\n",
            "\n",
            "           0       0.93      0.86      0.89        58\n",
            "           1       0.83      0.90      0.86        42\n",
            "\n",
            "    accuracy                           0.88       100\n",
            "   macro avg       0.88      0.88      0.88       100\n",
            "weighted avg       0.88      0.88      0.88       100\n",
            "\n"
          ]
        }
      ]
    },
    {
      "cell_type": "markdown",
      "source": [
        "## Área sob a Curva ROC - AUC"
      ],
      "metadata": {
        "id": "eIE6uWyTW74z"
      }
    },
    {
      "cell_type": "code",
      "source": [
        "# Calculando a àrea sob a curva ROC\n",
        "auc = roc_auc_score(y_teste, resultado_knn)\n",
        "print('ROC-AUC: %.3f' % auc)"
      ],
      "metadata": {
        "colab": {
          "base_uri": "https://localhost:8080/"
        },
        "id": "LoNSVQ5rQkvj",
        "outputId": "ccbd1598-8c23-4898-cc58-79dd0a01feb7"
      },
      "execution_count": 84,
      "outputs": [
        {
          "output_type": "stream",
          "name": "stdout",
          "text": [
            "ROC-AUC: 0.883\n"
          ]
        }
      ]
    },
    {
      "cell_type": "markdown",
      "source": [
        "## Gráfico da Curva ROC"
      ],
      "metadata": {
        "id": "Lp_0-4A5YH-r"
      }
    },
    {
      "cell_type": "code",
      "source": [
        "# Estimando as probabilidades\n",
        "knn_prob = knn.predict_proba(x_teste)\n",
        "probs = knn_prob[:, 1]\n",
        "\n",
        "rfp, rvp, lim = roc_curve(y_teste, probs)"
      ],
      "metadata": {
        "id": "6x-eK5D8Qnpj"
      },
      "execution_count": 104,
      "outputs": []
    },
    {
      "cell_type": "code",
      "source": [
        "knn_prob[:4] # Só imprimi os 4 primeiros"
      ],
      "metadata": {
        "colab": {
          "base_uri": "https://localhost:8080/"
        },
        "id": "yQZ0FlUjZYZZ",
        "outputId": "5b967a22-db30-4c19-f83a-23ee2cf25e96"
      },
      "execution_count": 105,
      "outputs": [
        {
          "output_type": "execute_result",
          "data": {
            "text/plain": [
              "array([[1. , 0. ],\n",
              "       [1. , 0. ],\n",
              "       [0.4, 0.6],\n",
              "       [0. , 1. ]])"
            ]
          },
          "metadata": {},
          "execution_count": 105
        }
      ]
    },
    {
      "cell_type": "code",
      "source": [
        "probs"
      ],
      "metadata": {
        "colab": {
          "base_uri": "https://localhost:8080/"
        },
        "id": "5Wc323xlZJL0",
        "outputId": "7ceff6e9-46a5-418c-a7f6-08fa79d0471c"
      },
      "execution_count": 106,
      "outputs": [
        {
          "output_type": "execute_result",
          "data": {
            "text/plain": [
              "array([0. , 0. , 0.6, 1. , 0.8, 0.2, 0. , 1. , 0. , 0.8, 0. , 0.2, 0. ,\n",
              "       0.8, 1. , 1. , 0.8, 0. , 0. , 0.8, 0.2, 1. , 1. , 0.8, 0.8, 0. ,\n",
              "       0.8, 0.6, 1. , 1. , 0. , 0. , 0. , 0.8, 0. , 0. , 0. , 0. , 1. ,\n",
              "       0. , 1. , 1. , 0.4, 0. , 1. , 0.4, 1. , 1. , 0.2, 0.8, 0. , 0. ,\n",
              "       0. , 1. , 0. , 0. , 0.8, 0. , 0.8, 1. , 0. , 0. , 0.8, 0. , 0.8,\n",
              "       1. , 0. , 0. , 1. , 0. , 1. , 0. , 0.8, 0.2, 0. , 1. , 0. , 0. ,\n",
              "       0. , 0. , 0. , 0.8, 1. , 0. , 0. , 0. , 1. , 0. , 0.8, 0. , 1. ,\n",
              "       0.8, 1. , 0. , 0. , 0.8, 1. , 0.2, 0. , 0. ])"
            ]
          },
          "metadata": {},
          "execution_count": 106
        }
      ]
    },
    {
      "cell_type": "code",
      "source": [
        "plt.figure(figsize=(7, 7))\n",
        "# Gráfico da curva ROC\n",
        "plt.plot(rfp, rvp, marker='.', label='KNN',color=\"orange\")\n",
        "plt.plot([0, 1], [0, 1], color='darkblue', linestyle='--')\n",
        "\n",
        "# axis labels\n",
        "plt.xlabel('1- Especificidade (Falsos Positivos)', fontsize=20, c='r')\n",
        "plt.ylabel('Sensibilidade (Verdadeiros Positivos)', fontsize=20, c='r')\n",
        "# show the legend\n",
        "plt.legend()\n",
        "plt.grid(True)\n",
        "# show the plot\n",
        "plt.show()\n",
        "\n",
        "print(\"AUC-ROC :\",auc)"
      ],
      "metadata": {
        "colab": {
          "base_uri": "https://localhost:8080/",
          "height": 468
        },
        "id": "VuJlddG-QzEU",
        "outputId": "1891b0ce-39a5-418e-ac46-20e75d58bfdf"
      },
      "execution_count": 107,
      "outputs": [
        {
          "output_type": "display_data",
          "data": {
            "text/plain": [
              "<Figure size 504x504 with 1 Axes>"
            ],
            "image/png": "[encoded data removed]"
          },
          "metadata": {
            "needs_background": "light"
          }
        },
        {
          "output_type": "stream",
          "name": "stdout",
          "text": [
            "AUC-ROC : 0.883415435139573\n"
          ]
        }
      ]
    }
  ]
}